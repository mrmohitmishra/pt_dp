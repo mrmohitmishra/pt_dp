{
 "cells": [
  {
   "cell_type": "code",
   "execution_count": 2,
   "metadata": {},
   "outputs": [
    {
     "name": "stdout",
     "output_type": "stream",
     "text": [
      "\n",
      "self.property_address=property_address\n",
      "self.property_plot_area=property_plot_area\n",
      "self.property_far=property_far\n",
      "self.property_bup_area=property_bup_area\n",
      "self.property_age=property_age\n",
      "self.property_type=property_type\n",
      "self.property_class=property_class\n",
      "self.property_par=property_par\n",
      "self.property_construction_type=property_construction_type\n",
      "self.property_arv=property_arv\n",
      "self.property_tax=property_tax\n"
     ]
    }
   ],
   "source": [
    "string_names = \"\"\"property_address,property_plot_area,property_far,property_bup_area,property_age,property_type,property_class,property_par,property_construction_type,property_arv,property_tax\"\"\"\n",
    "list_names = string_names.split(',')\n",
    "list_names_self = []\n",
    "for name in list_names:\n",
    "    name = 'self.'+name+'='+name\n",
    "    list_names_self.append(name)\n",
    "final_string=''\n",
    "for name in list_names_self:\n",
    "    final_string = final_string + '\\n' + name\n",
    "\n",
    "print(final_string)    \n"
   ]
  },
  {
   "cell_type": "code",
   "execution_count": 7,
   "metadata": {},
   "outputs": [
    {
     "name": "stdout",
     "output_type": "stream",
     "text": [
      "{'property_name':self.property_name,'property_address':self.property_address,'property_plot_area':self.property_plot_area,'property_far':self.property_far,'property_bup_area':self.property_bup_area,'property_age':self.property_age,'property_type':self.property_type,'property_class':self.property_class,'property_par':self.property_par,'property_construction_type':self.property_construction_type,'property_arv':self.property_arv,'property_tax':self.property_tax,}\n"
     ]
    }
   ],
   "source": [
    "string_names = \"\"\"property_name,property_address,property_plot_area,property_far,property_bup_area,property_age,property_type,property_class,property_par,property_construction_type,property_arv,property_tax\"\"\"\n",
    "list_names = string_names.split(',')\n",
    "list_names_self = []\n",
    "for name in list_names:\n",
    "    name=name.strip()\n",
    "    name = \"\\'\"+name+\"\\'\"+':'+'self.'+name\n",
    "    list_names_self.append(name)\n",
    "final_string='{'\n",
    "for name in list_names_self:\n",
    "    final_string = final_string + name + \",\"\n",
    "\n",
    "print(final_string+'}')    "
   ]
  },
  {
   "cell_type": "code",
   "execution_count": 11,
   "metadata": {},
   "outputs": [
    {
     "name": "stdout",
     "output_type": "stream",
     "text": [
      "[self.property_name, self.property_address, self.property_plot_area, self.property_far, self.property_bup_area, self.property_age, self.property_type, self.property_class, self.property_par, self.property_construction_type, self.property_arv, self.property_tax]\n"
     ]
    }
   ],
   "source": [
    "string_names = \"\"\"property_name,property_address,property_plot_area,property_far,property_bup_area,property_age,property_type,property_class,property_par,property_construction_type,property_arv,property_tax\"\"\"\n",
    "list_names = string_names.split(',')\n",
    "list_names_self = []\n",
    "for name in list_names:\n",
    "    name=name.strip()\n",
    "    name = 'self.'+name\n",
    "    name = name.replace(\"'\",'')\n",
    "    list_names_self.append(name)\n",
    "# final_string='{'\n",
    "# for name in list_names_self:\n",
    "#     final_string = final_string + name + \",\"\n",
    "\n",
    "print(str(list_names_self).replace(\"'\",'')) "
   ]
  },
  {
   "cell_type": "code",
   "execution_count": 12,
   "metadata": {},
   "outputs": [
    {
     "name": "stdout",
     "output_type": "stream",
     "text": [
      "{'property_name':self.property_name+other.property_name,'property_address':self.property_address+other.property_address,'property_plot_area':self.property_plot_area+other.property_plot_area,'property_far':self.property_far+other.property_far,'property_bup_area':self.property_bup_area+other.property_bup_area,'property_age':self.property_age+other.property_age,'property_type':self.property_type+other.property_type,'property_class':self.property_class+other.property_class,'property_par':self.property_par+other.property_par,'property_construction_type':self.property_construction_type+other.property_construction_type,'property_arv':self.property_arv+other.property_arv,'property_tax':self.property_tax+other.property_tax,}\n"
     ]
    }
   ],
   "source": [
    "string_names = \"\"\"property_name,property_address,property_plot_area,property_far,property_bup_area,property_age,property_type,property_class,property_par,property_construction_type,property_arv,property_tax\"\"\"\n",
    "list_names = string_names.split(',')\n",
    "list_names_self = []\n",
    "for name in list_names:\n",
    "    name=name.strip()\n",
    "    name = \"\\'\"+name+\"\\'\"+':'+'self.'+name+'+'+ 'other.' +name\n",
    "    list_names_self.append(name)\n",
    "final_string='{'\n",
    "for name in list_names_self:\n",
    "    final_string = final_string + name + \",\"\n",
    "\n",
    "print(final_string+'}')    "
   ]
  },
  {
   "cell_type": "code",
   "execution_count": null,
   "metadata": {},
   "outputs": [],
   "source": []
  }
 ],
 "metadata": {
  "interpreter": {
   "hash": "369f2c481f4da34e4445cda3fffd2e751bd1c4d706f27375911949ba6bb62e1c"
  },
  "kernelspec": {
   "display_name": "Python 3.10.4 64-bit",
   "language": "python",
   "name": "python3"
  },
  "language_info": {
   "codemirror_mode": {
    "name": "ipython",
    "version": 3
   },
   "file_extension": ".py",
   "mimetype": "text/x-python",
   "name": "python",
   "nbconvert_exporter": "python",
   "pygments_lexer": "ipython3",
   "version": "3.10.4"
  },
  "orig_nbformat": 4
 },
 "nbformat": 4,
 "nbformat_minor": 2
}
