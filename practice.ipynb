{
 "cells": [
  {
   "cell_type": "code",
   "execution_count": 2,
   "metadata": {},
   "outputs": [
    {
     "name": "stdout",
     "output_type": "stream",
     "text": [
      "\n",
      "self.property_address=property_address\n",
      "self.property_plot_area=property_plot_area\n",
      "self.property_far=property_far\n",
      "self.property_bup_area=property_bup_area\n",
      "self.property_age=property_age\n",
      "self.property_type=property_type\n",
      "self.property_class=property_class\n",
      "self.property_par=property_par\n",
      "self.property_construction_type=property_construction_type\n",
      "self.property_arv=property_arv\n",
      "self.property_tax=property_tax\n"
     ]
    }
   ],
   "source": [
    "string_names = \"\"\"property_address,property_plot_area,property_far,property_bup_area,property_age,property_type,property_class,property_par,property_construction_type,property_arv,property_tax\"\"\"\n",
    "list_names = string_names.split(',')\n",
    "list_names_self = []\n",
    "for name in list_names:\n",
    "    name = 'self.'+name+'='+name\n",
    "    list_names_self.append(name)\n",
    "final_string=''\n",
    "for name in list_names_self:\n",
    "    final_string = final_string + '\\n' + name\n",
    "\n",
    "print(final_string)    \n"
   ]
  },
  {
   "cell_type": "code",
   "execution_count": 7,
   "metadata": {},
   "outputs": [
    {
     "name": "stdout",
     "output_type": "stream",
     "text": [
      "{'property_name':self.property_name,'property_address':self.property_address,'property_plot_area':self.property_plot_area,'property_far':self.property_far,'property_bup_area':self.property_bup_area,'property_age':self.property_age,'property_type':self.property_type,'property_class':self.property_class,'property_par':self.property_par,'property_construction_type':self.property_construction_type,'property_arv':self.property_arv,'property_tax':self.property_tax,}\n"
     ]
    }
   ],
   "source": [
    "string_names = \"\"\"property_name,property_address,property_plot_area,property_far,property_bup_area,property_age,property_type,property_class,property_par,property_construction_type,property_arv,property_tax\"\"\"\n",
    "list_names = string_names.split(',')\n",
    "list_names_self = []\n",
    "for name in list_names:\n",
    "    name=name.strip()\n",
    "    name = \"\\'\"+name+\"\\'\"+':'+'self.'+name\n",
    "    list_names_self.append(name)\n",
    "final_string='{'\n",
    "for name in list_names_self:\n",
    "    final_string = final_string + name + \",\"\n",
    "\n",
    "print(final_string+'}')    "
   ]
  },
  {
   "cell_type": "code",
   "execution_count": 11,
   "metadata": {},
   "outputs": [
    {
     "name": "stdout",
     "output_type": "stream",
     "text": [
      "[self.property_name, self.property_address, self.property_plot_area, self.property_far, self.property_bup_area, self.property_age, self.property_type, self.property_class, self.property_par, self.property_construction_type, self.property_arv, self.property_tax]\n"
     ]
    }
   ],
   "source": [
    "string_names = \"\"\"property_name,property_address,property_plot_area,property_far,property_bup_area,property_age,property_type,property_class,property_par,property_construction_type,property_arv,property_tax\"\"\"\n",
    "list_names = string_names.split(',')\n",
    "list_names_self = []\n",
    "for name in list_names:\n",
    "    name=name.strip()\n",
    "    name = 'self.'+name\n",
    "    name = name.replace(\"'\",'')\n",
    "    list_names_self.append(name)\n",
    "# final_string='{'\n",
    "# for name in list_names_self:\n",
    "#     final_string = final_string + name + \",\"\n",
    "\n",
    "print(str(list_names_self).replace(\"'\",'')) "
   ]
  },
  {
   "cell_type": "code",
   "execution_count": 12,
   "metadata": {},
   "outputs": [
    {
     "name": "stdout",
     "output_type": "stream",
     "text": [
      "{'property_name':self.property_name+other.property_name,'property_address':self.property_address+other.property_address,'property_plot_area':self.property_plot_area+other.property_plot_area,'property_far':self.property_far+other.property_far,'property_bup_area':self.property_bup_area+other.property_bup_area,'property_age':self.property_age+other.property_age,'property_type':self.property_type+other.property_type,'property_class':self.property_class+other.property_class,'property_par':self.property_par+other.property_par,'property_construction_type':self.property_construction_type+other.property_construction_type,'property_arv':self.property_arv+other.property_arv,'property_tax':self.property_tax+other.property_tax,}\n"
     ]
    }
   ],
   "source": [
    "string_names = \"\"\"property_name,property_address,property_plot_area,property_far,property_bup_area,property_age,property_type,property_class,property_par,property_construction_type,property_arv,property_tax\"\"\"\n",
    "list_names = string_names.split(',')\n",
    "list_names_self = []\n",
    "for name in list_names:\n",
    "    name=name.strip()\n",
    "    name = \"\\'\"+name+\"\\'\"+':'+'self.'+name+'+'+ 'other.' +name\n",
    "    list_names_self.append(name)\n",
    "final_string='{'\n",
    "for name in list_names_self:\n",
    "    final_string = final_string + name + \",\"\n",
    "\n",
    "print(final_string+'}')    "
   ]
  },
  {
   "cell_type": "code",
   "execution_count": 16,
   "metadata": {},
   "outputs": [
    {
     "name": "stdout",
     "output_type": "stream",
     "text": [
      "['marwad', 'dalwada', 'kadaiya', 'devka', 'bhimpore', 'jani vankad', 'varkund', 'dunetha', 'dabhel', 'ringanwada', 'kachigam', 'palhit', 'bhamti', 'dholar', 'damanwada', 'pariyari', 'patlara', 'naila pardi', 'deva pardi', 'jampore']\n"
     ]
    }
   ],
   "source": [
    "industrial_circle_rate ={\n",
    "    'marwad':100000,\n",
    "    'dalwada':100000,\n",
    "    'kadaiya':100000,\n",
    "    'devka':100000,\n",
    "    'bhimpore':150000,\n",
    "    'jani vankad':150000,\n",
    "    'varkund':150000,\n",
    "    'dunetha':150000,\n",
    "    'dabhel':225000,\n",
    "    'ringanwada':225000,\n",
    "    'kachigam':225000,\n",
    "    'palhit':100000,\n",
    "    'bhamti':100000,\n",
    "    'dholar':100000,\n",
    "    'damanwada':100000,\n",
    "    'pariyari':100000,\n",
    "    'patlara':100000,\n",
    "    'naila pardi':100000,\n",
    "    'deva pardi':100000,\n",
    "    'jampore':100000,\n",
    "    'patlara':100000\n",
    "}\n",
    "print(list(industrial_circle_rate.keys()))"
   ]
  },
  {
   "cell_type": "code",
   "execution_count": null,
   "metadata": {},
   "outputs": [],
   "source": []
  },
  {
   "cell_type": "code",
   "execution_count": 20,
   "metadata": {},
   "outputs": [
    {
     "name": "stdout",
     "output_type": "stream",
     "text": [
      "['bung', 'dholar', '200', '0.5', '100', '20', 'commercial', '1', '120', 'superior', '0', '0']\n",
      "['shop', 'marwad', '1000', '0.5', '500', '30', 'residential', '2', '100', 'normal', '0', '0']\n"
     ]
    }
   ],
   "source": [
    "import csv\n",
    "import p_tax\n",
    "\n",
    "with open('practice.csv') as csv_file:\n",
    "\n",
    "    csv_reader = csv.reader(csv_file, delimiter=',')\n",
    "    next(csv_reader)\n",
    "    input()\n",
    "    \n",
    "    for i in csv_reader:\n",
    "        a = p_tax.Property(i)\n",
    "        print (i)\n",
    "        print(a)\n",
    "        input()\n",
    "    \n"
   ]
  },
  {
   "cell_type": "code",
   "execution_count": null,
   "metadata": {},
   "outputs": [],
   "source": []
  }
 ],
 "metadata": {
  "interpreter": {
   "hash": "369f2c481f4da34e4445cda3fffd2e751bd1c4d706f27375911949ba6bb62e1c"
  },
  "kernelspec": {
   "display_name": "Python 3.10.4 64-bit",
   "language": "python",
   "name": "python3"
  },
  "language_info": {
   "codemirror_mode": {
    "name": "ipython",
    "version": 3
   },
   "file_extension": ".py",
   "mimetype": "text/x-python",
   "name": "python",
   "nbconvert_exporter": "python",
   "pygments_lexer": "ipython3",
   "version": "3.10.4"
  },
  "orig_nbformat": 4
 },
 "nbformat": 4,
 "nbformat_minor": 2
}
